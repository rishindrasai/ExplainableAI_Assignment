{
  "cells": [
    {
      "cell_type": "markdown",
      "metadata": {
        "id": "view-in-github",
        "colab_type": "text"
      },
      "source": [
        "<a href=\"https://colab.research.google.com/github/rishindrasai/ExplainableAI_Assignment/blob/main/XAI_Lab_Assignment_4.ipynb\" target=\"_parent\"><img src=\"https://colab.research.google.com/assets/colab-badge.svg\" alt=\"Open In Colab\"/></a>"
      ]
    },
    {
      "cell_type": "code",
      "execution_count": null,
      "metadata": {
        "colab": {
          "base_uri": "https://localhost:8080/"
        },
        "id": "KHZEjOy9HTdc",
        "outputId": "9c01a797-e698-4c0a-9059-235bc1d5f558"
      },
      "outputs": [
        {
          "output_type": "stream",
          "name": "stdout",
          "text": [
            "Dataset shape: (535014, 6)\n"
          ]
        }
      ],
      "source": [
        "import numpy as np\n",
        "import pandas as pd\n",
        "import matplotlib.pyplot as plt\n",
        "from sklearn.datasets import fetch_20newsgroups\n",
        "from sklearn.pipeline import make_pipeline\n",
        "from sklearn.linear_model import LogisticRegression\n",
        "from sklearn.feature_extraction.text import TfidfVectorizer\n",
        "from sklearn.inspection import permutation_importance\n",
        "import shap\n",
        "from lime.lime_text import LimeTextExplainer\n",
        "\n",
        "df = pd.read_csv(\"/content/preprocessed_final.csv\", engine='python', on_bad_lines='skip')\n",
        "print(\"Dataset shape:\", df.shape)\n",
        "df.head()\n",
        "\n",
        "categories = None\n",
        "train = fetch_20newsgroups(subset='train', categories=categories, remove=('headers', 'footers', 'quotes'))\n",
        "test = fetch_20newsgroups(subset='test', categories=categories, remove=('headers', 'footers', 'quotes'))\n",
        "\n",
        "vectorizer = TfidfVectorizer(stop_words='english', max_features=10000)\n",
        "clf = LogisticRegression(max_iter=1000, random_state=42)\n",
        "pipe = make_pipeline(vectorizer, clf)\n",
        "pipe.fit(train.data, train.target)\n",
        "\n",
        "def predict_proba(texts):\n",
        "    return pipe.predict_proba(texts)\n",
        "\n",
        "feature_names = vectorizer.get_feature_names_out()\n",
        "\n",
        "# Transform test data to feature vectors\n",
        "# Add a check for non-string elements in test.data\n",
        "processed_test_data = []\n",
        "for item in test.data:\n",
        "    if isinstance(item, str):\n",
        "        processed_test_data.append(item)\n",
        "    else:\n",
        "        print(f\"Warning: Found non-string element in test.data: {item} (type: {type(item)}). Skipping or converting to string.\")\n",
        "        # Optionally, convert to string if appropriate:\n",
        "        # processed_test_data.append(str(item))\n",
        "\n",
        "X_test = vectorizer.transform(processed_test_data).toarray()\n",
        "\n",
        "# Use the fitted classifier and vectorized test data for permutation_importance\n",
        "result = permutation_importance(clf, X_test, test.target[:len(processed_test_data)], n_repeats=10, random_state=42, scoring='accuracy')\n",
        "\n",
        "sorted_idx = result.importances_mean.argsort()[::-1]\n",
        "top_n = 20\n",
        "top_features = feature_names[sorted_idx[:top_n]]\n",
        "top_importances = result.importances_mean[sorted_idx[:top_n]]\n",
        "\n",
        "plt.figure(figsize=(10,6))\n",
        "plt.barh(top_features[::-1], top_importances[::-1], color='skyblue')\n",
        "plt.xlabel(\"Mean decrease in accuracy (Permutation Importance)\")\n",
        "plt.title(\"Top 20 Important Words by Permutation Importance\")\n",
        "plt.tight_layout()\n",
        "plt.show()\n",
        "\n",
        "background = train.data[:100]\n",
        "\n",
        "def shap_predict(texts):\n",
        "    probs = pipe.predict_proba(texts)\n",
        "    preds = pipe.predict(texts)\n",
        "    return np.array([probs[i, preds[i]] for i in range(len(texts))])\n",
        "\n",
        "explainer = shap.KernelExplainer(shap_predict, background)\n",
        "\n",
        "doc_idx = 0\n",
        "# Ensure the document for SHAP is a string\n",
        "doc = [str(test.data[doc_idx])]\n",
        "\n",
        "shap_values = explainer.shap_values(doc, nsamples=100)\n",
        "\n",
        "sample_test = test.data[:100]\n",
        "# Ensure sample_test for global SHAP is a list of strings\n",
        "processed_sample_test = []\n",
        "for item in sample_test:\n",
        "    if isinstance(item, str):\n",
        "        processed_sample_test.append(item)\n",
        "    else:\n",
        "        print(f\"Warning: Found non-string element in sample_test: {item} (type: {type(item)}). Skipping or converting to string.\")\n",
        "        # Optionally, convert to string if appropriate:\n",
        "        # processed_sample_test.append(str(item))\n",
        "\n",
        "shap_values_global = explainer.shap_values(processed_sample_test, nsamples=100)\n",
        "\n",
        "shap_values_array = shap_values_global[0]\n",
        "\n",
        "X_sample = vectorizer.transform(processed_sample_test).toarray()\n",
        "\n",
        "shap.summary_plot(shap_values_array, features=X_sample, feature_names=feature_names, max_display=20, show=True)\n",
        "\n",
        "shap.initjs()\n",
        "shap.force_plot(explainer.expected_value, shap_values[0], doc, feature_names=feature_names, matplotlib=True)\n",
        "\n",
        "class_names = train.target_names\n",
        "explainer_lime = LimeTextExplainer(class_names=class_names)\n",
        "\n",
        "def explain_with_lime(doc_index):\n",
        "    doc_text = test.data[doc_index]\n",
        "    # Ensure the document for LIME is a string\n",
        "    if not isinstance(doc_text, str):\n",
        "         print(f\"Warning: Document at index {doc_index} is not a string (type: {type(doc_text)}). Converting to string for LIME.\")\n",
        "         doc_text = str(doc_text)\n",
        "\n",
        "    exp = explainer_lime.explain_instance(doc_text, pipe.predict_proba, num_features=10)\n",
        "    print(f\"\\nLIME explanation for document index {doc_index} (true class: {class_names[test.target[doc_index]]}):\")\n",
        "    exp.show_in_notebook(text=doc_text)\n",
        "    return exp\n",
        "\n",
        "exp1 = explain_with_lime(0)\n",
        "exp2 = explain_with_lime(1)\n",
        "\n",
        "print(\"\\nComparative Analysis Insights:\")\n",
        "print(\"\"\" \"\"\")"
      ]
    },
    {
      "cell_type": "code",
      "metadata": {
        "colab": {
          "base_uri": "https://localhost:8080/"
        },
        "id": "273510e0",
        "outputId": "24332777-4460-4f1f-feb5-5677f1a98759"
      },
      "source": [
        "!pip install lime"
      ],
      "execution_count": null,
      "outputs": [
        {
          "output_type": "stream",
          "name": "stdout",
          "text": [
            "Collecting lime\n",
            "  Downloading lime-0.2.0.1.tar.gz (275 kB)\n",
            "\u001b[?25l     \u001b[90m━━━━━━━━━━━━━━━━━━━━━━━━━━━━━━━━━━━━━━━━\u001b[0m \u001b[32m0.0/275.7 kB\u001b[0m \u001b[31m?\u001b[0m eta \u001b[36m-:--:--\u001b[0m\r\u001b[2K     \u001b[91m━━━━━━━━━━━━━━━━━━━━━━━━━━━━━━━━━━━━\u001b[0m\u001b[91m╸\u001b[0m\u001b[90m━\u001b[0m \u001b[32m266.2/275.7 kB\u001b[0m \u001b[31m12.0 MB/s\u001b[0m eta \u001b[36m0:00:01\u001b[0m\r\u001b[2K     \u001b[90m━━━━━━━━━━━━━━━━━━━━━━━━━━━━━━━━━━━━━━━\u001b[0m \u001b[32m275.7/275.7 kB\u001b[0m \u001b[31m7.4 MB/s\u001b[0m eta \u001b[36m0:00:00\u001b[0m\n",
            "\u001b[?25h  Preparing metadata (setup.py) ... \u001b[?25l\u001b[?25hdone\n",
            "Requirement already satisfied: matplotlib in /usr/local/lib/python3.12/dist-packages (from lime) (3.10.0)\n",
            "Requirement already satisfied: numpy in /usr/local/lib/python3.12/dist-packages (from lime) (2.0.2)\n",
            "Requirement already satisfied: scipy in /usr/local/lib/python3.12/dist-packages (from lime) (1.16.1)\n",
            "Requirement already satisfied: tqdm in /usr/local/lib/python3.12/dist-packages (from lime) (4.67.1)\n",
            "Requirement already satisfied: scikit-learn>=0.18 in /usr/local/lib/python3.12/dist-packages (from lime) (1.6.1)\n",
            "Requirement already satisfied: scikit-image>=0.12 in /usr/local/lib/python3.12/dist-packages (from lime) (0.25.2)\n",
            "Requirement already satisfied: networkx>=3.0 in /usr/local/lib/python3.12/dist-packages (from scikit-image>=0.12->lime) (3.5)\n",
            "Requirement already satisfied: pillow>=10.1 in /usr/local/lib/python3.12/dist-packages (from scikit-image>=0.12->lime) (11.3.0)\n",
            "Requirement already satisfied: imageio!=2.35.0,>=2.33 in /usr/local/lib/python3.12/dist-packages (from scikit-image>=0.12->lime) (2.37.0)\n",
            "Requirement already satisfied: tifffile>=2022.8.12 in /usr/local/lib/python3.12/dist-packages (from scikit-image>=0.12->lime) (2025.8.28)\n",
            "Requirement already satisfied: packaging>=21 in /usr/local/lib/python3.12/dist-packages (from scikit-image>=0.12->lime) (25.0)\n",
            "Requirement already satisfied: lazy-loader>=0.4 in /usr/local/lib/python3.12/dist-packages (from scikit-image>=0.12->lime) (0.4)\n",
            "Requirement already satisfied: joblib>=1.2.0 in /usr/local/lib/python3.12/dist-packages (from scikit-learn>=0.18->lime) (1.5.2)\n",
            "Requirement already satisfied: threadpoolctl>=3.1.0 in /usr/local/lib/python3.12/dist-packages (from scikit-learn>=0.18->lime) (3.6.0)\n",
            "Requirement already satisfied: contourpy>=1.0.1 in /usr/local/lib/python3.12/dist-packages (from matplotlib->lime) (1.3.3)\n",
            "Requirement already satisfied: cycler>=0.10 in /usr/local/lib/python3.12/dist-packages (from matplotlib->lime) (0.12.1)\n",
            "Requirement already satisfied: fonttools>=4.22.0 in /usr/local/lib/python3.12/dist-packages (from matplotlib->lime) (4.59.2)\n",
            "Requirement already satisfied: kiwisolver>=1.3.1 in /usr/local/lib/python3.12/dist-packages (from matplotlib->lime) (1.4.9)\n",
            "Requirement already satisfied: pyparsing>=2.3.1 in /usr/local/lib/python3.12/dist-packages (from matplotlib->lime) (3.2.3)\n",
            "Requirement already satisfied: python-dateutil>=2.7 in /usr/local/lib/python3.12/dist-packages (from matplotlib->lime) (2.9.0.post0)\n",
            "Requirement already satisfied: six>=1.5 in /usr/local/lib/python3.12/dist-packages (from python-dateutil>=2.7->matplotlib->lime) (1.17.0)\n",
            "Building wheels for collected packages: lime\n",
            "  Building wheel for lime (setup.py) ... \u001b[?25l\u001b[?25hdone\n",
            "  Created wheel for lime: filename=lime-0.2.0.1-py3-none-any.whl size=283834 sha256=3d17d749edd50400b7622d5aa0261b8c7bdeac34da2f5f9b7d457a0ae71de82e\n",
            "  Stored in directory: /root/.cache/pip/wheels/e7/5d/0e/4b4fff9a47468fed5633211fb3b76d1db43fe806a17fb7486a\n",
            "Successfully built lime\n",
            "Installing collected packages: lime\n",
            "Successfully installed lime-0.2.0.1\n"
          ]
        }
      ]
    }
  ],
  "metadata": {
    "colab": {
      "provenance": [],
      "include_colab_link": true
    },
    "kernelspec": {
      "display_name": "Python 3",
      "name": "python3"
    },
    "language_info": {
      "name": "python"
    }
  },
  "nbformat": 4,
  "nbformat_minor": 0
}